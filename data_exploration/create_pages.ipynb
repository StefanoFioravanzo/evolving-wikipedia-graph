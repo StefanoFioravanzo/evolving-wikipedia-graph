{
 "cells": [
  {
   "cell_type": "markdown",
   "metadata": {},
   "source": [
    "# Data Exploration\n",
    "\n",
    "Exploration of a single Wikipedia history file."
   ]
  },
  {
   "cell_type": "code",
   "execution_count": 1,
   "metadata": {},
   "outputs": [],
   "source": [
    "import fileinput\n",
    "import re\n",
    "from pathlib import Path"
   ]
  },
  {
   "cell_type": "code",
   "execution_count": 2,
   "metadata": {},
   "outputs": [],
   "source": [
    "file_path = \"/Users/StefanoFiora/Downloads/wikipedia/enwiki-latest-pages-meta-history1.xml-p10p2103.bz2\"\n",
    "ext_file_path = \"/Volumes/SFHDD/bigdata/wikipedia/enwiki-latest-pages-meta-history1.xml-p10p2103\""
   ]
  },
  {
   "cell_type": "code",
   "execution_count": 3,
   "metadata": {},
   "outputs": [],
   "source": [
    "def read_lines_from_compressed(file_path):\n",
    "    input = fileinput.FileInput(file_path, openhook=fileinput.hook_compressed)\n",
    "    for _ in range(1000):\n",
    "        print(input.readline())"
   ]
  },
  {
   "cell_type": "code",
   "execution_count": null,
   "metadata": {},
   "outputs": [],
   "source": [
    "read_lines_from_compressed(file_path)"
   ]
  },
  {
   "cell_type": "code",
   "execution_count": 82,
   "metadata": {},
   "outputs": [
    {
     "name": "stdout",
     "output_type": "stream",
     "text": [
      "Rename page.xml to AccessibleComputing.xml\n"
     ]
    },
    {
     "ename": "KeyboardInterrupt",
     "evalue": "",
     "output_type": "error",
     "traceback": [
      "\u001b[0;31m---------------------------------------------------------------------------\u001b[0m",
      "\u001b[0;31mKeyboardInterrupt\u001b[0m                         Traceback (most recent call last)",
      "\u001b[0;32m<ipython-input-82-be08b9a37f2c>\u001b[0m in \u001b[0;36m<module>\u001b[0;34m()\u001b[0m\n\u001b[1;32m     12\u001b[0m     \u001b[0;31m# When an input file is .bz2 or .gz, line can be a bytes string\u001b[0m\u001b[0;34m\u001b[0m\u001b[0;34m\u001b[0m\u001b[0m\n\u001b[1;32m     13\u001b[0m     \u001b[0;32mif\u001b[0m \u001b[0;32mnot\u001b[0m \u001b[0misinstance\u001b[0m\u001b[0;34m(\u001b[0m\u001b[0mline\u001b[0m\u001b[0;34m,\u001b[0m \u001b[0mstr\u001b[0m\u001b[0;34m)\u001b[0m\u001b[0;34m:\u001b[0m \u001b[0mline\u001b[0m \u001b[0;34m=\u001b[0m \u001b[0mline\u001b[0m\u001b[0;34m.\u001b[0m\u001b[0mdecode\u001b[0m\u001b[0;34m(\u001b[0m\u001b[0;34m'utf-8'\u001b[0m\u001b[0;34m)\u001b[0m\u001b[0;34m\u001b[0m\u001b[0m\n\u001b[0;32m---> 14\u001b[0;31m     \u001b[0mm\u001b[0m \u001b[0;34m=\u001b[0m \u001b[0mtag_pattern\u001b[0m\u001b[0;34m.\u001b[0m\u001b[0msearch\u001b[0m\u001b[0;34m(\u001b[0m\u001b[0mline\u001b[0m\u001b[0;34m)\u001b[0m\u001b[0;34m\u001b[0m\u001b[0m\n\u001b[0m\u001b[1;32m     15\u001b[0m     \u001b[0;32mif\u001b[0m \u001b[0;32mnot\u001b[0m \u001b[0mm\u001b[0m\u001b[0;34m:\u001b[0m\u001b[0;34m\u001b[0m\u001b[0m\n\u001b[1;32m     16\u001b[0m         \u001b[0;32mcontinue\u001b[0m\u001b[0;34m\u001b[0m\u001b[0m\n",
      "\u001b[0;31mKeyboardInterrupt\u001b[0m: "
     ]
    }
   ],
   "source": [
    "def stream_from_compressed(file_path, pages=4)\n",
    "    input = fileinput.FileInput(file_path, openhook=fileinput.hook_compressed)\n",
    "\n",
    "    # pattern for an xml tag\n",
    "    tag_pattern = re.compile(r'(.*?)<(/?\\w+)[^>]*?>(?:([^<]*)(<.*?>)?)?')\n",
    "\n",
    "    write = False\n",
    "    # current directory\n",
    "    p = Path('./page.xml')\n",
    "    page = open(\"page.xml\", \"w\")\n",
    "    while True:\n",
    "        line = input.readline()\n",
    "        # When an input file is .bz2 or .gz, line can be a bytes string\n",
    "        if not isinstance(line, str): line = line.decode('utf-8')\n",
    "        m = tag_pattern.search(line)\n",
    "        if not m:\n",
    "            continue\n",
    "        tag = m.group(2)\n",
    "        if tag == 'page':\n",
    "            write = True\n",
    "        if tag == 'title':\n",
    "            title = m.group(3)\n",
    "        if write:\n",
    "            page.write(line)\n",
    "        if tag == \"/page\":\n",
    "            write = False\n",
    "            print(f\"Rename {p} to {title+p.suffix}\")\n",
    "            page.close()\n",
    "            p.rename(Path(p.parent, title + p.suffix))\n",
    "            page = open(\"page.xml\", \"w\")\n",
    "            pages -= 1\n",
    "            if pages == 0:\n",
    "                break; \n",
    "\n",
    "    if not page.closed:\n",
    "        page.close()"
   ]
  },
  {
   "cell_type": "code",
   "execution_count": 84,
   "metadata": {},
   "outputs": [],
   "source": [
    "import xml.etree.ElementTree as etree\n",
    "import codecs\n",
    "import csv\n",
    "import time\n",
    "import os"
   ]
  },
  {
   "cell_type": "code",
   "execution_count": null,
   "metadata": {},
   "outputs": [],
   "source": [
    "etree.register_namespace('', 'http://www.mediawiki.org/xml/export-0.10/')\n",
    "context = etree.iterparse(ext_file_path, events=(\"start\", \"end\"))\n",
    "context = iter(context)\n",
    "counter = 0\n",
    "while True:\n",
    "    event, elem = context.__next__()\n",
    "#     print(event)\n",
    "    if event =='start' and elem.tag.split('}', 1)[1] == \"page\":\n",
    "#         print(etree.tostring(elem, encoding='unicode', method='xml'))\n",
    "        with open(f\"{counter}.xml\", \"w\") as file:\n",
    "            file.write(etree.tostring(elem, encoding='unicode', method='xml'))\n",
    "        counter += 1\n",
    "#     print(elem.tag)\n",
    "#     print(elem.text)"
   ]
  },
  {
   "cell_type": "code",
   "execution_count": null,
   "metadata": {},
   "outputs": [],
   "source": []
  }
 ],
 "metadata": {
  "kernelspec": {
   "display_name": "Python 3",
   "language": "python",
   "name": "python3"
  },
  "language_info": {
   "codemirror_mode": {
    "name": "ipython",
    "version": 3
   },
   "file_extension": ".py",
   "mimetype": "text/x-python",
   "name": "python",
   "nbconvert_exporter": "python",
   "pygments_lexer": "ipython3",
   "version": "3.6.5"
  }
 },
 "nbformat": 4,
 "nbformat_minor": 2
}
